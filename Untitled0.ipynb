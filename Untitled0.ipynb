{
 "metadata": {
  "name": "",
  "signature": "sha256:066dbc059dcaa391d4e90ad5f02888386bae1defcebf96491d527214ab6776b7"
 },
 "nbformat": 3,
 "nbformat_minor": 0,
 "worksheets": []
}